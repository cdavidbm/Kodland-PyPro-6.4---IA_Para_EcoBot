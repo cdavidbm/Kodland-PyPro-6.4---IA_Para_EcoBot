{
  "nbformat": 4,
  "nbformat_minor": 0,
  "metadata": {
    "colab": {
      "provenance": [],
      "authorship_tag": "ABX9TyNE6nPO/DXlWptduI/xFqPy",
      "include_colab_link": true
    },
    "kernelspec": {
      "name": "python3",
      "display_name": "Python 3"
    },
    "language_info": {
      "name": "python"
    }
  },
  "cells": [
    {
      "cell_type": "markdown",
      "metadata": {
        "id": "view-in-github",
        "colab_type": "text"
      },
      "source": [
        "<a href=\"https://colab.research.google.com/github/cdavidbm/Kodland-PyPro-6.4---IA_Para_EcoBot/blob/main/M6L4_Proyecto_clasificador_de_Basuras_EcoBot_IA.ipynb\" target=\"_parent\"><img src=\"https://colab.research.google.com/assets/colab-badge.svg\" alt=\"Open In Colab\"/></a>"
      ]
    },
    {
      "cell_type": "markdown",
      "source": [
        "Nota inicial: Para mejorar el modelo, dispone de este Dataset inicial:\n",
        "[Conjunto de datos](https://drive.google.com/drive/folders/15hOgrRNDlvNg9APX_PG-4LB4H7MgDBBF)"
      ],
      "metadata": {
        "id": "M09P66t2vaK2"
      }
    },
    {
      "cell_type": "markdown",
      "source": [
        "# Clasificador de Basuras"
      ],
      "metadata": {
        "id": "RsORy0e6pGmk"
      }
    },
    {
      "cell_type": "markdown",
      "source": [
        "Este modelo te va a ayudar a reconocer distintos tipos de residuos. Para utilizarlo, sigue las instrucciones de manera ordenada. Comience por darle click en el botón \"Iniciar\" en la parte superior derecha de esta ventana. Luego de click en el icono de una carpeta que está a la derecha y ahi suba los archivos del modelo."
      ],
      "metadata": {
        "id": "ff8f5HPGpKu7"
      }
    },
    {
      "cell_type": "markdown",
      "source": [
        "1) Debemos confirmar que versión de Python tenemos disponible. Para esto, de click en el botón de Play al lado izquierdo del siguiente bloque."
      ],
      "metadata": {
        "id": "Qz6sd-gLpQ7D"
      }
    },
    {
      "cell_type": "code",
      "source": [
        "!python --version"
      ],
      "metadata": {
        "collapsed": true,
        "id": "X6-QNzdanw-w"
      },
      "execution_count": null,
      "outputs": []
    },
    {
      "cell_type": "markdown",
      "source": [
        "2) Ahora es necesario instalar las bibliotecas necesarias. De Play en el siguiente bloque."
      ],
      "metadata": {
        "id": "a5ATuI5dpq9j"
      }
    },
    {
      "cell_type": "code",
      "execution_count": null,
      "metadata": {
        "collapsed": true,
        "id": "vKekr94qmopk"
      },
      "outputs": [],
      "source": [
        "!pip install Pillow==9.1.0\n",
        "!pip install keras==2.12.0\n",
        "!pip install tensorflow==2.12.0"
      ]
    },
    {
      "cell_type": "markdown",
      "source": [
        "3) Por favor de click en el siguiente bloque, que va a cargar todos los recursos necesarios del proyecto."
      ],
      "metadata": {
        "id": "8N6CPJD6qdh_"
      }
    },
    {
      "cell_type": "code",
      "source": [
        "from google.colab import files\n",
        "from google.colab.patches import cv2_imshow\n",
        "import cv2\n",
        "from keras.models import load_model\n",
        "from PIL import Image, ImageOps\n",
        "import numpy as np\n",
        "\n",
        "np.set_printoptions(suppress=True)\n",
        "model = load_model(\"/content/keras_model.h5\", compile=False)\n",
        "class_names = open(\"/content/labels.txt\", \"r\").readlines()"
      ],
      "metadata": {
        "id": "KigvonsdqkDm"
      },
      "execution_count": null,
      "outputs": []
    },
    {
      "cell_type": "markdown",
      "source": [
        "4) Ahora active el siguiente bloque, que contiene la función de análisis de imagenes y como proceder con esos residuos"
      ],
      "metadata": {
        "id": "JNndxQjJrhZz"
      }
    },
    {
      "cell_type": "code",
      "source": [
        "def identificadorDeTiposDeResiduos(image):\n",
        "    data = np.ndarray(shape=(1, 224, 224, 3), dtype=np.float32)\n",
        "    image = Image.open(image_path).convert(\"RGB\")\n",
        "    size = (224, 224)\n",
        "    image = ImageOps.fit(image, size, Image.Resampling.LANCZOS)\n",
        "    image_array = np.asarray(image)\n",
        "    normalized_image_array = (image_array.astype(np.float32) / 127.5) - 1\n",
        "    data[0] = normalized_image_array\n",
        "    prediction = model.predict(data)\n",
        "    index = np.argmax(prediction)\n",
        "    class_name = class_names[index]\n",
        "    confidence_score = prediction[0][index]\n",
        "\n",
        "    return class_name[2:], confidence_score\n",
        "\n",
        "def comoProcesarLosResiduos(tipoDeResiduo):\n",
        "    treats = {\n",
        "        \"Plastico\\n\": [\"Para manejar este residuo te recomiendo lo limpies primero y luego lo deseches en la bolsa color blanco\"],\n",
        "        \"Organico\\n\": [\"Para esta clase de residuos, te recomiendo desecharlos en la bolsa negra\"],\n",
        "    }\n",
        "    return treats.get(tipoDeResiduo, [\"Residuo no identificado\"])"
      ],
      "metadata": {
        "id": "IQR8sT0arIVE"
      },
      "execution_count": null,
      "outputs": []
    },
    {
      "cell_type": "markdown",
      "source": [
        "5) Es momento de subir una imagen para que sea analizada. Puede dar click en el siguiente bloque o subirla manualmente como se le indico previamente."
      ],
      "metadata": {
        "id": "g2EUd1vls6EG"
      }
    },
    {
      "cell_type": "code",
      "source": [
        "print(\"Por favor, sube una imagen del residuo que quiere analizar:\")\n",
        "uploaded = files.upload()\n",
        "image_path = list(uploaded.keys())[0]\n",
        "image = Image.open(image_path)"
      ],
      "metadata": {
        "collapsed": true,
        "id": "c_BIz-abs5i-"
      },
      "execution_count": null,
      "outputs": []
    },
    {
      "cell_type": "markdown",
      "source": [
        "6) Para analizar la imagen de click en este ultimo bloque"
      ],
      "metadata": {
        "id": "TBzQKEf1uEIS"
      }
    },
    {
      "cell_type": "code",
      "source": [
        "img = cv2.imread(image_path)\n",
        "cv2_imshow(img)\n",
        "residuo, confidence = identificadorDeTiposDeResiduos(image_path)\n",
        "print(f\"\\n Tipo: {residuo} Confianza: {confidence}\")\n",
        "print(f\"\\n Procedimiento con ese residuo: \\n {comoProcesarLosResiduos(residuo)}\")"
      ],
      "metadata": {
        "collapsed": true,
        "id": "pFW6uAC5tq74"
      },
      "execution_count": null,
      "outputs": []
    }
  ]
}